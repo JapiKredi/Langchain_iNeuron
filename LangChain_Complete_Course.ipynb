{
 "cells": [
  {
   "cell_type": "code",
   "execution_count": 1,
   "metadata": {},
   "outputs": [],
   "source": [
    "import langchain"
   ]
  },
  {
   "cell_type": "code",
   "execution_count": 2,
   "metadata": {},
   "outputs": [
    {
     "name": "stdout",
     "output_type": "stream",
     "text": [
      "Defaulting to user installation because normal site-packages is not writeable\n",
      "Requirement already satisfied: ipykernel in /Users/jasper/Library/Python/3.11/lib/python/site-packages (6.28.0)\n",
      "Requirement already satisfied: appnope in /Users/jasper/Library/Python/3.11/lib/python/site-packages (from ipykernel) (0.1.3)\n",
      "Requirement already satisfied: comm>=0.1.1 in /Users/jasper/Library/Python/3.11/lib/python/site-packages (from ipykernel) (0.2.1)\n",
      "Requirement already satisfied: debugpy>=1.6.5 in /Users/jasper/Library/Python/3.11/lib/python/site-packages (from ipykernel) (1.8.0)\n",
      "Requirement already satisfied: ipython>=7.23.1 in /Users/jasper/Library/Python/3.11/lib/python/site-packages (from ipykernel) (8.20.0)\n",
      "Requirement already satisfied: jupyter-client>=6.1.12 in /Users/jasper/Library/Python/3.11/lib/python/site-packages (from ipykernel) (8.6.0)\n",
      "Requirement already satisfied: jupyter-core!=5.0.*,>=4.12 in /Users/jasper/Library/Python/3.11/lib/python/site-packages (from ipykernel) (5.7.1)\n",
      "Requirement already satisfied: matplotlib-inline>=0.1 in /Users/jasper/Library/Python/3.11/lib/python/site-packages (from ipykernel) (0.1.6)\n",
      "Requirement already satisfied: nest-asyncio in /Users/jasper/Library/Python/3.11/lib/python/site-packages (from ipykernel) (1.5.8)\n",
      "Requirement already satisfied: packaging in /Library/Frameworks/Python.framework/Versions/3.11/lib/python3.11/site-packages (from ipykernel) (23.2)\n",
      "Requirement already satisfied: psutil in /Users/jasper/Library/Python/3.11/lib/python/site-packages (from ipykernel) (5.9.7)\n",
      "Requirement already satisfied: pyzmq>=24 in /Users/jasper/Library/Python/3.11/lib/python/site-packages (from ipykernel) (25.1.2)\n",
      "Requirement already satisfied: tornado>=6.1 in /Users/jasper/Library/Python/3.11/lib/python/site-packages (from ipykernel) (6.4)\n",
      "Requirement already satisfied: traitlets>=5.4.0 in /Users/jasper/Library/Python/3.11/lib/python/site-packages (from ipykernel) (5.14.1)\n",
      "Requirement already satisfied: decorator in /Users/jasper/Library/Python/3.11/lib/python/site-packages (from ipython>=7.23.1->ipykernel) (5.1.1)\n",
      "Requirement already satisfied: jedi>=0.16 in /Users/jasper/Library/Python/3.11/lib/python/site-packages (from ipython>=7.23.1->ipykernel) (0.19.1)\n",
      "Requirement already satisfied: prompt-toolkit<3.1.0,>=3.0.41 in /Users/jasper/Library/Python/3.11/lib/python/site-packages (from ipython>=7.23.1->ipykernel) (3.0.43)\n",
      "Requirement already satisfied: pygments>=2.4.0 in /Users/jasper/Library/Python/3.11/lib/python/site-packages (from ipython>=7.23.1->ipykernel) (2.17.2)\n",
      "Requirement already satisfied: stack-data in /Users/jasper/Library/Python/3.11/lib/python/site-packages (from ipython>=7.23.1->ipykernel) (0.6.3)\n",
      "Requirement already satisfied: pexpect>4.3 in /Library/Frameworks/Python.framework/Versions/3.11/lib/python3.11/site-packages (from ipython>=7.23.1->ipykernel) (4.9.0)\n",
      "Requirement already satisfied: python-dateutil>=2.8.2 in /Library/Frameworks/Python.framework/Versions/3.11/lib/python3.11/site-packages (from jupyter-client>=6.1.12->ipykernel) (2.8.2)\n",
      "Requirement already satisfied: platformdirs>=2.5 in /Library/Frameworks/Python.framework/Versions/3.11/lib/python3.11/site-packages (from jupyter-core!=5.0.*,>=4.12->ipykernel) (3.11.0)\n",
      "Requirement already satisfied: parso<0.9.0,>=0.8.3 in /Users/jasper/Library/Python/3.11/lib/python/site-packages (from jedi>=0.16->ipython>=7.23.1->ipykernel) (0.8.3)\n",
      "Requirement already satisfied: ptyprocess>=0.5 in /Library/Frameworks/Python.framework/Versions/3.11/lib/python3.11/site-packages (from pexpect>4.3->ipython>=7.23.1->ipykernel) (0.7.0)\n",
      "Requirement already satisfied: wcwidth in /Users/jasper/Library/Python/3.11/lib/python/site-packages (from prompt-toolkit<3.1.0,>=3.0.41->ipython>=7.23.1->ipykernel) (0.2.13)\n",
      "Requirement already satisfied: six>=1.5 in /Library/Frameworks/Python.framework/Versions/3.11/lib/python3.11/site-packages (from python-dateutil>=2.8.2->jupyter-client>=6.1.12->ipykernel) (1.16.0)\n",
      "Requirement already satisfied: executing>=1.2.0 in /Users/jasper/Library/Python/3.11/lib/python/site-packages (from stack-data->ipython>=7.23.1->ipykernel) (2.0.1)\n",
      "Requirement already satisfied: asttokens>=2.1.0 in /Users/jasper/Library/Python/3.11/lib/python/site-packages (from stack-data->ipython>=7.23.1->ipykernel) (2.4.1)\n",
      "Requirement already satisfied: pure-eval in /Users/jasper/Library/Python/3.11/lib/python/site-packages (from stack-data->ipython>=7.23.1->ipykernel) (0.2.2)\n",
      "Note: you may need to restart the kernel to use updated packages.\n"
     ]
    }
   ],
   "source": [
    "pip install ipykernel"
   ]
  },
  {
   "cell_type": "code",
   "execution_count": 3,
   "metadata": {},
   "outputs": [
    {
     "name": "stdout",
     "output_type": "stream",
     "text": [
      "Defaulting to user installation because normal site-packages is not writeable\n",
      "Requirement already satisfied: python-dotenv in /Library/Frameworks/Python.framework/Versions/3.11/lib/python3.11/site-packages (1.0.0)\n",
      "Note: you may need to restart the kernel to use updated packages.\n"
     ]
    }
   ],
   "source": [
    "pip install python-dotenv"
   ]
  },
  {
   "cell_type": "code",
   "execution_count": 4,
   "metadata": {},
   "outputs": [
    {
     "data": {
      "text/plain": [
       "True"
      ]
     },
     "execution_count": 4,
     "metadata": {},
     "output_type": "execute_result"
    }
   ],
   "source": [
    "from dotenv import load_dotenv\n",
    "\n",
    "load_dotenv()  # take environment variables from .env."
   ]
  },
  {
   "cell_type": "code",
   "execution_count": 5,
   "metadata": {},
   "outputs": [
    {
     "data": {
      "text/plain": [
       "True"
      ]
     },
     "execution_count": 5,
     "metadata": {},
     "output_type": "execute_result"
    }
   ],
   "source": [
    "load_dotenv()"
   ]
  },
  {
   "cell_type": "code",
   "execution_count": 6,
   "metadata": {},
   "outputs": [
    {
     "name": "stdout",
     "output_type": "stream",
     "text": [
      "Package                             Version\n",
      "----------------------------------- ---------------\n",
      "accelerate                          0.27.2\n",
      "aiohttp                             3.9.1\n",
      "aiosignal                           1.3.1\n",
      "annotated-types                     0.6.0\n",
      "anyio                               4.2.0\n",
      "appnope                             0.1.3\n",
      "asttokens                           2.4.1\n",
      "attrs                               23.2.0\n",
      "backoff                             2.2.1\n",
      "beautifulsoup4                      4.12.3\n",
      "bitsandbytes                        0.42.0\n",
      "blinker                             1.7.0\n",
      "blis                                0.7.11\n",
      "bs4                                 0.0.2\n",
      "build                               1.0.3\n",
      "CacheControl                        0.13.1\n",
      "cachetools                          5.3.2\n",
      "catalogue                           2.0.10\n",
      "certifi                             2023.11.17\n",
      "cffi                                1.16.0\n",
      "chardet                             5.2.0\n",
      "charset-normalizer                  3.3.2\n",
      "chromadb                            0.3.21\n",
      "cleo                                2.1.0\n",
      "click                               8.1.7\n",
      "clickhouse-connect                  0.7.0\n",
      "cloudpathlib                        0.16.0\n",
      "comm                                0.2.1\n",
      "confection                          0.1.4\n",
      "crashtest                           0.4.1\n",
      "cymem                               2.0.8\n",
      "dataclasses-json                    0.5.14\n",
      "dataclasses-json-speakeasy          0.5.11\n",
      "debugpy                             1.8.0\n",
      "decorator                           5.1.1\n",
      "Deprecated                          1.2.14\n",
      "dirtyjson                           1.0.8\n",
      "diskcache                           5.6.3\n",
      "distlib                             0.3.8\n",
      "distro                              1.9.0\n",
      "docarray                            0.40.0\n",
      "duckdb                              0.9.2\n",
      "dulwich                             0.21.7\n",
      "einops                              0.7.0\n",
      "emoji                               2.10.1\n",
      "en-core-web-sm                      3.7.1\n",
      "executing                           2.0.1\n",
      "faiss-cpu                           1.7.4\n",
      "fastapi                             0.109.0\n",
      "fastjsonschema                      2.19.1\n",
      "filelock                            3.13.1\n",
      "filetype                            1.2.0\n",
      "Flask                               3.0.0\n",
      "frozenlist                          1.4.1\n",
      "fsspec                              2023.12.2\n",
      "functions                           0.7.0\n",
      "gensim                              4.3.2\n",
      "google_search_results               2.4.2\n",
      "gptcache                            0.1.43\n",
      "greenlet                            3.0.3\n",
      "h11                                 0.14.0\n",
      "hnswlib                             0.8.0\n",
      "html2text                           2020.1.16\n",
      "httpcore                            1.0.3\n",
      "httptools                           0.6.1\n",
      "httpx                               0.26.0\n",
      "huggingface-hub                     0.20.2\n",
      "idna                                3.6\n",
      "importlib-metadata                  7.0.1\n",
      "installer                           0.7.0\n",
      "ipykernel                           6.28.0\n",
      "ipython                             8.20.0\n",
      "ipywidgets                          8.1.1\n",
      "itsdangerous                        2.1.2\n",
      "jaraco.classes                      3.3.0\n",
      "jedi                                0.19.1\n",
      "Jinja2                              3.1.2\n",
      "joblib                              1.3.2\n",
      "jsonpatch                           1.33\n",
      "jsonpath-python                     1.0.6\n",
      "jsonpointer                         2.4\n",
      "jupyter_client                      8.6.0\n",
      "jupyter_core                        5.7.1\n",
      "jupyterlab-widgets                  3.0.9\n",
      "keyring                             24.3.0\n",
      "langchain                           0.0.141\n",
      "langchain-community                 0.0.10\n",
      "langchain-core                      0.1.8\n",
      "langcodes                           3.3.0\n",
      "langdetect                          1.0.9\n",
      "langsmith                           0.0.78\n",
      "llama_cpp_python                    0.2.32\n",
      "llama-index                         0.10.4\n",
      "llama-index-agent-openai            0.1.1\n",
      "llama-index-core                    0.10.3\n",
      "llama-index-embeddings-openai       0.1.1\n",
      "llama-index-legacy                  0.9.48\n",
      "llama-index-llms-openai             0.1.1\n",
      "llama-index-multi-modal-llms-openai 0.1.1\n",
      "llama-index-program-openai          0.1.1\n",
      "llama-index-question-gen-openai     0.1.1\n",
      "llama-index-readers-file            0.1.3\n",
      "llvmlite                            0.41.1\n",
      "lxml                                5.1.0\n",
      "lz4                                 4.3.3\n",
      "markdown-it-py                      3.0.0\n",
      "MarkupSafe                          2.1.3\n",
      "marshmallow                         3.20.1\n",
      "matplotlib-inline                   0.1.6\n",
      "mdurl                               0.1.2\n",
      "monotonic                           1.6\n",
      "more-itertools                      10.1.0\n",
      "mpmath                              1.3.0\n",
      "msgpack                             1.0.7\n",
      "multidict                           6.0.4\n",
      "murmurhash                          1.0.10\n",
      "mypy-extensions                     1.0.0\n",
      "nest-asyncio                        1.5.8\n",
      "networkx                            3.2.1\n",
      "nltk                                3.8.1\n",
      "numba                               0.58.1\n",
      "numexpr                             2.9.0\n",
      "numpy                               1.26.3\n",
      "openai                              1.12.0\n",
      "openapi-schema-pydantic             1.2.4\n",
      "opencv-python                       4.6.0.66\n",
      "orjson                              3.9.14\n",
      "packaging                           23.2\n",
      "pandas                              2.1.4\n",
      "parso                               0.8.3\n",
      "pexpect                             4.9.0\n",
      "pillow                              10.2.0\n",
      "pip                                 24.0\n",
      "pkginfo                             1.9.6\n",
      "platformdirs                        3.11.0\n",
      "poetry                              1.7.1\n",
      "poetry-core                         1.8.1\n",
      "poetry-plugin-export                1.6.0\n",
      "posthog                             3.3.4\n",
      "preshed                             3.0.9\n",
      "prompt-toolkit                      3.0.43\n",
      "psutil                              5.9.7\n",
      "ptyprocess                          0.7.0\n",
      "pure-eval                           0.2.2\n",
      "pycparser                           2.21\n",
      "pydantic                            1.10.14\n",
      "pydantic_core                       2.14.6\n",
      "Pygments                            2.17.2\n",
      "PyMuPDF                             1.23.22\n",
      "PyMuPDFb                            1.23.22\n",
      "pynndescent                         0.5.11\n",
      "pypdf                               4.0.1\n",
      "pyproject_hooks                     1.0.0\n",
      "python-dateutil                     2.8.2\n",
      "python-dotenv                       1.0.0\n",
      "python-iso639                       2024.1.2\n",
      "python-magic                        0.4.27\n",
      "python-multipart                    0.0.6\n",
      "pytube                              12.1.3\n",
      "pytz                                2023.3.post1\n",
      "PyYAML                              6.0.1\n",
      "pyzmq                               25.1.2\n",
      "rapidfuzz                           3.6.1\n",
      "regex                               2023.12.25\n",
      "requests                            2.31.0\n",
      "requests-toolbelt                   1.0.0\n",
      "rich                                13.7.0\n",
      "safetensors                         0.4.1\n",
      "scikit-learn                        1.3.2\n",
      "scipy                               1.11.4\n",
      "sentence-transformers               2.2.2\n",
      "sentencepiece                       0.1.99\n",
      "setuptools                          65.5.0\n",
      "shellingham                         1.5.4\n",
      "six                                 1.16.0\n",
      "smart-open                          6.4.0\n",
      "sniffio                             1.3.0\n",
      "soupsieve                           2.5\n",
      "spacy                               3.7.2\n",
      "spacy-legacy                        3.0.12\n",
      "spacy-loggers                       1.0.5\n",
      "SQLAlchemy                          1.4.51\n",
      "srsly                               2.4.8\n",
      "stack-data                          0.6.3\n",
      "starlette                           0.35.1\n",
      "sympy                               1.12\n",
      "tabulate                            0.9.0\n",
      "tenacity                            8.2.3\n",
      "termcolor                           2.4.0\n",
      "textblob                            0.17.1\n",
      "thinc                               8.2.2\n",
      "threadpoolctl                       3.2.0\n",
      "tiktoken                            0.3.3\n",
      "tokenizers                          0.15.0\n",
      "tomlkit                             0.12.3\n",
      "torch                               2.1.2\n",
      "torchvision                         0.16.2\n",
      "tornado                             6.4\n",
      "tqdm                                4.66.1\n",
      "traitlets                           5.14.1\n",
      "transformers                        4.36.2\n",
      "trove-classifiers                   2023.11.29\n",
      "typer                               0.9.0\n",
      "types-requests                      2.31.0.20240125\n",
      "typing_extensions                   4.9.0\n",
      "typing-inspect                      0.9.0\n",
      "tzdata                              2023.4\n",
      "umap-learn                          0.5.5\n",
      "unstructured                        0.12.3\n",
      "unstructured-client                 0.17.0\n",
      "urllib3                             2.1.0\n",
      "uvicorn                             0.27.0\n",
      "uvloop                              0.19.0\n",
      "virtualenv                          20.25.0\n",
      "wasabi                              1.1.2\n",
      "watchfiles                          0.21.0\n",
      "watermark                           2.3.1\n",
      "wcwidth                             0.2.13\n",
      "weasel                              0.3.4\n",
      "websockets                          12.0\n",
      "Werkzeug                            3.0.1\n",
      "wget                                3.2\n",
      "widgetsnbextension                  4.0.9\n",
      "wikipedia                           1.4.0\n",
      "wrapt                               1.16.0\n",
      "xattr                               0.10.1\n",
      "yarl                                1.9.4\n",
      "youtube-transcript-api              0.5.0\n",
      "zipp                                3.17.0\n",
      "zstandard                           0.22.0\n",
      "Note: you may need to restart the kernel to use updated packages.\n"
     ]
    }
   ],
   "source": [
    "pip list"
   ]
  },
  {
   "cell_type": "code",
   "execution_count": 7,
   "metadata": {},
   "outputs": [],
   "source": [
    "import os"
   ]
  },
  {
   "cell_type": "code",
   "execution_count": 8,
   "metadata": {},
   "outputs": [],
   "source": [
    "GOOGLE_API_KEY = os.getenv('GOOGLE_API_KEY')"
   ]
  },
  {
   "cell_type": "code",
   "execution_count": 9,
   "metadata": {},
   "outputs": [],
   "source": [
    "OPENAI_API_KEY = os.getenv('OPENAI_API_KEY')"
   ]
  },
  {
   "cell_type": "code",
   "execution_count": 10,
   "metadata": {},
   "outputs": [],
   "source": [
    "HUGGINGFACE_TOKEN = os.getenv('HUGGINGFACE_TOKEN')"
   ]
  },
  {
   "cell_type": "markdown",
   "metadata": {},
   "source": [
    "# Langchain with OpenAI"
   ]
  },
  {
   "cell_type": "code",
   "execution_count": 11,
   "metadata": {},
   "outputs": [],
   "source": [
    "import openai"
   ]
  },
  {
   "cell_type": "code",
   "execution_count": 25,
   "metadata": {},
   "outputs": [],
   "source": [
    "from langchain.llms import OpenAI"
   ]
  },
  {
   "cell_type": "code",
   "execution_count": 26,
   "metadata": {},
   "outputs": [],
   "source": [
    "llm = OpenAI()"
   ]
  },
  {
   "cell_type": "code",
   "execution_count": 27,
   "metadata": {},
   "outputs": [],
   "source": [
    "text = 'Can you tell me about China?'"
   ]
  },
  {
   "cell_type": "code",
   "execution_count": 29,
   "metadata": {},
   "outputs": [
    {
     "ename": "AttributeError",
     "evalue": "'OpenAI' object has no attribute 'predict'",
     "output_type": "error",
     "traceback": [
      "\u001b[0;31m---------------------------------------------------------------------------\u001b[0m",
      "\u001b[0;31mAttributeError\u001b[0m                            Traceback (most recent call last)",
      "Cell \u001b[0;32mIn[29], line 1\u001b[0m\n\u001b[0;32m----> 1\u001b[0m \u001b[43mllm\u001b[49m\u001b[38;5;241;43m.\u001b[39;49m\u001b[43mpredict\u001b[49m(text)\n\u001b[1;32m      2\u001b[0m \u001b[38;5;66;03m#llm.invole(text)\u001b[39;00m\n\u001b[1;32m      3\u001b[0m \u001b[38;5;66;03m#llm.run(text)\u001b[39;00m\n",
      "\u001b[0;31mAttributeError\u001b[0m: 'OpenAI' object has no attribute 'predict'"
     ]
    }
   ],
   "source": [
    "llm.predict(text)\n",
    "#llm.invole(text)\n",
    "#llm.run(text)"
   ]
  },
  {
   "cell_type": "markdown",
   "metadata": {},
   "source": [
    "# Langchain with HuggingFace"
   ]
  },
  {
   "cell_type": "code",
   "execution_count": 30,
   "metadata": {},
   "outputs": [],
   "source": [
    "from langchain import HuggingFaceHub"
   ]
  },
  {
   "cell_type": "code",
   "execution_count": 40,
   "metadata": {},
   "outputs": [],
   "source": [
    "huggingfacehub_api_token=HUGGINGFACE_TOKEN"
   ]
  },
  {
   "cell_type": "code",
   "execution_count": 41,
   "metadata": {},
   "outputs": [
    {
     "data": {
      "text/plain": [
       "'Ketxik-hokfyc-2wovka'"
      ]
     },
     "execution_count": 41,
     "metadata": {},
     "output_type": "execute_result"
    }
   ],
   "source": [
    "huggingfacehub_api_token"
   ]
  },
  {
   "cell_type": "code",
   "execution_count": 38,
   "metadata": {},
   "outputs": [
    {
     "name": "stderr",
     "output_type": "stream",
     "text": [
      "/Library/Frameworks/Python.framework/Versions/3.11/lib/python3.11/site-packages/huggingface_hub/utils/_deprecation.py:131: FutureWarning: 'InferenceApi' (from 'huggingface_hub.inference_api') is deprecated and will be removed from version '1.0'. `InferenceApi` client is deprecated in favor of the more feature-complete `InferenceClient`. Check out this guide to learn how to convert your script to use it: https://huggingface.co/docs/huggingface_hub/guides/inference#legacy-inferenceapi-client.\n",
      "  warnings.warn(warning_message, FutureWarning)\n"
     ]
    }
   ],
   "source": [
    "llm2 = HuggingFaceHub(repo_id='mistralai/Mistral-7B-Instruct-v0.2',huggingfacehub_api_token=HUGGINGFACE_TOKEN)"
   ]
  },
  {
   "cell_type": "code",
   "execution_count": 36,
   "metadata": {},
   "outputs": [
    {
     "ename": "ValueError",
     "evalue": "Error raised by inference API: Authorization header is correct, but the token seems invalid",
     "output_type": "error",
     "traceback": [
      "\u001b[0;31m---------------------------------------------------------------------------\u001b[0m",
      "\u001b[0;31mValueError\u001b[0m                                Traceback (most recent call last)",
      "Cell \u001b[0;32mIn[36], line 1\u001b[0m\n\u001b[0;32m----> 1\u001b[0m \u001b[43mllm2\u001b[49m\u001b[43m(\u001b[49m\u001b[38;5;124;43m'\u001b[39;49m\u001b[38;5;124;43mWhat is the capital of India?\u001b[39;49m\u001b[38;5;124;43m'\u001b[39;49m\u001b[43m)\u001b[49m\n",
      "File \u001b[0;32m~/Library/Python/3.11/lib/python/site-packages/langchain/llms/base.py:246\u001b[0m, in \u001b[0;36mBaseLLM.__call__\u001b[0;34m(self, prompt, stop)\u001b[0m\n\u001b[1;32m    244\u001b[0m \u001b[38;5;28;01mdef\u001b[39;00m \u001b[38;5;21m__call__\u001b[39m(\u001b[38;5;28mself\u001b[39m, prompt: \u001b[38;5;28mstr\u001b[39m, stop: Optional[List[\u001b[38;5;28mstr\u001b[39m]] \u001b[38;5;241m=\u001b[39m \u001b[38;5;28;01mNone\u001b[39;00m) \u001b[38;5;241m-\u001b[39m\u001b[38;5;241m>\u001b[39m \u001b[38;5;28mstr\u001b[39m:\n\u001b[1;32m    245\u001b[0m \u001b[38;5;250m    \u001b[39m\u001b[38;5;124;03m\"\"\"Check Cache and run the LLM on the given prompt and input.\"\"\"\u001b[39;00m\n\u001b[0;32m--> 246\u001b[0m     \u001b[38;5;28;01mreturn\u001b[39;00m \u001b[38;5;28;43mself\u001b[39;49m\u001b[38;5;241;43m.\u001b[39;49m\u001b[43mgenerate\u001b[49m\u001b[43m(\u001b[49m\u001b[43m[\u001b[49m\u001b[43mprompt\u001b[49m\u001b[43m]\u001b[49m\u001b[43m,\u001b[49m\u001b[43m \u001b[49m\u001b[43mstop\u001b[49m\u001b[38;5;241;43m=\u001b[39;49m\u001b[43mstop\u001b[49m\u001b[43m)\u001b[49m\u001b[38;5;241m.\u001b[39mgenerations[\u001b[38;5;241m0\u001b[39m][\u001b[38;5;241m0\u001b[39m]\u001b[38;5;241m.\u001b[39mtext\n",
      "File \u001b[0;32m~/Library/Python/3.11/lib/python/site-packages/langchain/llms/base.py:140\u001b[0m, in \u001b[0;36mBaseLLM.generate\u001b[0;34m(self, prompts, stop)\u001b[0m\n\u001b[1;32m    138\u001b[0m \u001b[38;5;28;01mexcept\u001b[39;00m (\u001b[38;5;167;01mKeyboardInterrupt\u001b[39;00m, \u001b[38;5;167;01mException\u001b[39;00m) \u001b[38;5;28;01mas\u001b[39;00m e:\n\u001b[1;32m    139\u001b[0m     \u001b[38;5;28mself\u001b[39m\u001b[38;5;241m.\u001b[39mcallback_manager\u001b[38;5;241m.\u001b[39mon_llm_error(e, verbose\u001b[38;5;241m=\u001b[39m\u001b[38;5;28mself\u001b[39m\u001b[38;5;241m.\u001b[39mverbose)\n\u001b[0;32m--> 140\u001b[0m     \u001b[38;5;28;01mraise\u001b[39;00m e\n\u001b[1;32m    141\u001b[0m \u001b[38;5;28mself\u001b[39m\u001b[38;5;241m.\u001b[39mcallback_manager\u001b[38;5;241m.\u001b[39mon_llm_end(output, verbose\u001b[38;5;241m=\u001b[39m\u001b[38;5;28mself\u001b[39m\u001b[38;5;241m.\u001b[39mverbose)\n\u001b[1;32m    142\u001b[0m \u001b[38;5;28;01mreturn\u001b[39;00m output\n",
      "File \u001b[0;32m~/Library/Python/3.11/lib/python/site-packages/langchain/llms/base.py:137\u001b[0m, in \u001b[0;36mBaseLLM.generate\u001b[0;34m(self, prompts, stop)\u001b[0m\n\u001b[1;32m    133\u001b[0m \u001b[38;5;28mself\u001b[39m\u001b[38;5;241m.\u001b[39mcallback_manager\u001b[38;5;241m.\u001b[39mon_llm_start(\n\u001b[1;32m    134\u001b[0m     {\u001b[38;5;124m\"\u001b[39m\u001b[38;5;124mname\u001b[39m\u001b[38;5;124m\"\u001b[39m: \u001b[38;5;28mself\u001b[39m\u001b[38;5;241m.\u001b[39m\u001b[38;5;18m__class__\u001b[39m\u001b[38;5;241m.\u001b[39m\u001b[38;5;18m__name__\u001b[39m}, prompts, verbose\u001b[38;5;241m=\u001b[39m\u001b[38;5;28mself\u001b[39m\u001b[38;5;241m.\u001b[39mverbose\n\u001b[1;32m    135\u001b[0m )\n\u001b[1;32m    136\u001b[0m \u001b[38;5;28;01mtry\u001b[39;00m:\n\u001b[0;32m--> 137\u001b[0m     output \u001b[38;5;241m=\u001b[39m \u001b[38;5;28;43mself\u001b[39;49m\u001b[38;5;241;43m.\u001b[39;49m\u001b[43m_generate\u001b[49m\u001b[43m(\u001b[49m\u001b[43mprompts\u001b[49m\u001b[43m,\u001b[49m\u001b[43m \u001b[49m\u001b[43mstop\u001b[49m\u001b[38;5;241;43m=\u001b[39;49m\u001b[43mstop\u001b[49m\u001b[43m)\u001b[49m\n\u001b[1;32m    138\u001b[0m \u001b[38;5;28;01mexcept\u001b[39;00m (\u001b[38;5;167;01mKeyboardInterrupt\u001b[39;00m, \u001b[38;5;167;01mException\u001b[39;00m) \u001b[38;5;28;01mas\u001b[39;00m e:\n\u001b[1;32m    139\u001b[0m     \u001b[38;5;28mself\u001b[39m\u001b[38;5;241m.\u001b[39mcallback_manager\u001b[38;5;241m.\u001b[39mon_llm_error(e, verbose\u001b[38;5;241m=\u001b[39m\u001b[38;5;28mself\u001b[39m\u001b[38;5;241m.\u001b[39mverbose)\n",
      "File \u001b[0;32m~/Library/Python/3.11/lib/python/site-packages/langchain/llms/base.py:324\u001b[0m, in \u001b[0;36mLLM._generate\u001b[0;34m(self, prompts, stop)\u001b[0m\n\u001b[1;32m    322\u001b[0m generations \u001b[38;5;241m=\u001b[39m []\n\u001b[1;32m    323\u001b[0m \u001b[38;5;28;01mfor\u001b[39;00m prompt \u001b[38;5;129;01min\u001b[39;00m prompts:\n\u001b[0;32m--> 324\u001b[0m     text \u001b[38;5;241m=\u001b[39m \u001b[38;5;28;43mself\u001b[39;49m\u001b[38;5;241;43m.\u001b[39;49m\u001b[43m_call\u001b[49m\u001b[43m(\u001b[49m\u001b[43mprompt\u001b[49m\u001b[43m,\u001b[49m\u001b[43m \u001b[49m\u001b[43mstop\u001b[49m\u001b[38;5;241;43m=\u001b[39;49m\u001b[43mstop\u001b[49m\u001b[43m)\u001b[49m\n\u001b[1;32m    325\u001b[0m     generations\u001b[38;5;241m.\u001b[39mappend([Generation(text\u001b[38;5;241m=\u001b[39mtext)])\n\u001b[1;32m    326\u001b[0m \u001b[38;5;28;01mreturn\u001b[39;00m LLMResult(generations\u001b[38;5;241m=\u001b[39mgenerations)\n",
      "File \u001b[0;32m~/Library/Python/3.11/lib/python/site-packages/langchain/llms/huggingface_hub.py:105\u001b[0m, in \u001b[0;36mHuggingFaceHub._call\u001b[0;34m(self, prompt, stop)\u001b[0m\n\u001b[1;32m    103\u001b[0m response \u001b[38;5;241m=\u001b[39m \u001b[38;5;28mself\u001b[39m\u001b[38;5;241m.\u001b[39mclient(inputs\u001b[38;5;241m=\u001b[39mprompt, params\u001b[38;5;241m=\u001b[39m_model_kwargs)\n\u001b[1;32m    104\u001b[0m \u001b[38;5;28;01mif\u001b[39;00m \u001b[38;5;124m\"\u001b[39m\u001b[38;5;124merror\u001b[39m\u001b[38;5;124m\"\u001b[39m \u001b[38;5;129;01min\u001b[39;00m response:\n\u001b[0;32m--> 105\u001b[0m     \u001b[38;5;28;01mraise\u001b[39;00m \u001b[38;5;167;01mValueError\u001b[39;00m(\u001b[38;5;124mf\u001b[39m\u001b[38;5;124m\"\u001b[39m\u001b[38;5;124mError raised by inference API: \u001b[39m\u001b[38;5;132;01m{\u001b[39;00mresponse[\u001b[38;5;124m'\u001b[39m\u001b[38;5;124merror\u001b[39m\u001b[38;5;124m'\u001b[39m]\u001b[38;5;132;01m}\u001b[39;00m\u001b[38;5;124m\"\u001b[39m)\n\u001b[1;32m    106\u001b[0m \u001b[38;5;28;01mif\u001b[39;00m \u001b[38;5;28mself\u001b[39m\u001b[38;5;241m.\u001b[39mclient\u001b[38;5;241m.\u001b[39mtask \u001b[38;5;241m==\u001b[39m \u001b[38;5;124m\"\u001b[39m\u001b[38;5;124mtext-generation\u001b[39m\u001b[38;5;124m\"\u001b[39m:\n\u001b[1;32m    107\u001b[0m     \u001b[38;5;66;03m# Text generation return includes the starter text.\u001b[39;00m\n\u001b[1;32m    108\u001b[0m     text \u001b[38;5;241m=\u001b[39m response[\u001b[38;5;241m0\u001b[39m][\u001b[38;5;124m\"\u001b[39m\u001b[38;5;124mgenerated_text\u001b[39m\u001b[38;5;124m\"\u001b[39m][\u001b[38;5;28mlen\u001b[39m(prompt) :]\n",
      "\u001b[0;31mValueError\u001b[0m: Error raised by inference API: Authorization header is correct, but the token seems invalid"
     ]
    }
   ],
   "source": [
    "llm2('What is the capital of India?')"
   ]
  },
  {
   "cell_type": "code",
   "execution_count": 39,
   "metadata": {},
   "outputs": [
    {
     "ename": "NameError",
     "evalue": "name 'huggingfacehub_api_token' is not defined",
     "output_type": "error",
     "traceback": [
      "\u001b[0;31m---------------------------------------------------------------------------\u001b[0m",
      "\u001b[0;31mNameError\u001b[0m                                 Traceback (most recent call last)",
      "Cell \u001b[0;32mIn[39], line 1\u001b[0m\n\u001b[0;32m----> 1\u001b[0m \u001b[43mhuggingfacehub_api_token\u001b[49m\n",
      "\u001b[0;31mNameError\u001b[0m: name 'huggingfacehub_api_token' is not defined"
     ]
    }
   ],
   "source": [
    "huggingfacehub_api_token"
   ]
  },
  {
   "cell_type": "code",
   "execution_count": 37,
   "metadata": {},
   "outputs": [
    {
     "ename": "NameError",
     "evalue": "name 'huggingfacehub_api_token' is not defined",
     "output_type": "error",
     "traceback": [
      "\u001b[0;31m---------------------------------------------------------------------------\u001b[0m",
      "\u001b[0;31mNameError\u001b[0m                                 Traceback (most recent call last)",
      "Cell \u001b[0;32mIn[37], line 1\u001b[0m\n\u001b[0;32m----> 1\u001b[0m \u001b[43mhuggingfacehub_api_token\u001b[49m\n",
      "\u001b[0;31mNameError\u001b[0m: name 'huggingfacehub_api_token' is not defined"
     ]
    }
   ],
   "source": [
    "huggingfacehub_api_token"
   ]
  },
  {
   "cell_type": "code",
   "execution_count": null,
   "metadata": {},
   "outputs": [],
   "source": []
  },
  {
   "cell_type": "markdown",
   "metadata": {},
   "source": [
    "# Langchain with Gemini"
   ]
  },
  {
   "cell_type": "markdown",
   "metadata": {},
   "source": []
  }
 ],
 "metadata": {
  "kernelspec": {
   "display_name": ".venv",
   "language": "python",
   "name": "python3"
  },
  "language_info": {
   "codemirror_mode": {
    "name": "ipython",
    "version": 3
   },
   "file_extension": ".py",
   "mimetype": "text/x-python",
   "name": "python",
   "nbconvert_exporter": "python",
   "pygments_lexer": "ipython3",
   "version": "3.11.0"
  }
 },
 "nbformat": 4,
 "nbformat_minor": 2
}
